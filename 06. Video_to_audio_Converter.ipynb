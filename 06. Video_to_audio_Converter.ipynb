{
 "cells": [
  {
   "cell_type": "markdown",
   "id": "95d6a996",
   "metadata": {},
   "source": []
  },
  {
   "cell_type": "code",
   "execution_count": 21,
   "id": "299ec28e",
   "metadata": {},
   "outputs": [
    {
     "name": "stdout",
     "output_type": "stream",
     "text": [
      "Defaulting to user installation because normal site-packages is not writeable\n",
      "Collecting pytube\n",
      "  Downloading pytube-11.0.1-py3-none-any.whl (56 kB)\n",
      "Installing collected packages: pytube\n",
      "Successfully installed pytube-11.0.1\n",
      "Note: you may need to restart the kernel to use updated packages.\n"
     ]
    },
    {
     "name": "stderr",
     "output_type": "stream",
     "text": [
      "  WARNING: The script pytube.exe is installed in 'C:\\Users\\om\\AppData\\Roaming\\Python\\Python39\\Scripts' which is not on PATH.\n",
      "  Consider adding this directory to PATH or, if you prefer to suppress this warning, use --no-warn-script-location.\n"
     ]
    }
   ],
   "source": [
    "pip install pytube"
   ]
  },
  {
   "cell_type": "code",
   "execution_count": 23,
   "id": "6f7af69e",
   "metadata": {
    "scrolled": true
   },
   "outputs": [
    {
     "name": "stdout",
     "output_type": "stream",
     "text": [
      "Enter YouTube video URL: https://www.youtube.com/watch?v=cp3OpQdL5FU\n",
      "The Excute file are saved in your Python Directory\n"
     ]
    }
   ],
   "source": [
    "from pytube import YouTube\n",
    "import pytube\n",
    "import os\n",
    "\n",
    "def main():\n",
    "    video_url = input('Enter YouTube video URL: ')\n",
    "\n",
    "    if os.name == 'nt':\n",
    "        path = os.getcwd() + '\\\\'\n",
    "    else:\n",
    "        path = os.getcwd() + '/'\n",
    "\n",
    "    name = pytube.extract.video_id(video_url)\n",
    "    YouTube(video_url).streams.filter(only_audio=True).first().download(filename=name)\n",
    "    location = path + name + '.mp4'\n",
    "    renametomp3 = path + name + '.mp3'\n",
    "\n",
    "    if os.name == 'nt':\n",
    "        os.system('ren {0} {1}'. format(location, renametomp3))\n",
    "    else:\n",
    "        os.system('mv {0} {1}'. format(location, renametomp3))\n",
    "    \n",
    "    print(\"The Excute file are saved in your Python Directory\")\n",
    "if __name__ == '__main__':\n",
    "    main()"
   ]
  },
  {
   "cell_type": "code",
   "execution_count": null,
   "id": "7a4b84ac",
   "metadata": {},
   "outputs": [],
   "source": []
  },
  {
   "cell_type": "code",
   "execution_count": null,
   "id": "485f2a93",
   "metadata": {},
   "outputs": [],
   "source": []
  }
 ],
 "metadata": {
  "kernelspec": {
   "display_name": "Python 3 (ipykernel)",
   "language": "python",
   "name": "python3"
  },
  "language_info": {
   "codemirror_mode": {
    "name": "ipython",
    "version": 3
   },
   "file_extension": ".py",
   "mimetype": "text/x-python",
   "name": "python",
   "nbconvert_exporter": "python",
   "pygments_lexer": "ipython3",
   "version": "3.9.6"
  }
 },
 "nbformat": 4,
 "nbformat_minor": 5
}
