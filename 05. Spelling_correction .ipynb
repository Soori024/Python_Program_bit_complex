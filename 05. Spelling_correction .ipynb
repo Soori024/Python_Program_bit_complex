{
 "cells": [
  {
   "cell_type": "code",
   "execution_count": 1,
   "id": "2e4a9589",
   "metadata": {},
   "outputs": [
    {
     "data": {
      "text/plain": [
       "'Spelling correction is often viewed from two angles. Non-word spell check is the detection and correction of spelling mistakes that result in non-words. In contrast, real word spell checking involves detecting and correcting misspellings even if they accidentally result in a real English word (real word errors).\\n\\nThis can come from typographical errors of real-word errors (insertion, deletion, transposition) that accidentally produce a real word, or from cognitive errors where the writer substituted the wrong one.'"
      ]
     },
     "execution_count": 1,
     "metadata": {},
     "output_type": "execute_result"
    }
   ],
   "source": [
    "'''Spelling correction is often viewed from two angles. Non-word spell check is the detection and correction of spelling mistakes that result in non-words. In contrast, real word spell checking involves detecting and correcting misspellings even if they accidentally result in a real English word (real word errors).\n",
    "\n",
    "This can come from typographical errors of real-word errors (insertion, deletion, transposition) that accidentally produce a real word, or from cognitive errors where the writer substituted the wrong one.'''"
   ]
  },
  {
   "cell_type": "code",
   "execution_count": 3,
   "id": "d11b04be",
   "metadata": {},
   "outputs": [
    {
     "name": "stdout",
     "output_type": "stream",
     "text": [
      "Defaulting to user installation because normal site-packages is not writeable\n",
      "Collecting textblob\n",
      "  Downloading textblob-0.17.1-py2.py3-none-any.whl (636 kB)\n",
      "Collecting nltk>=3.1\n",
      "  Downloading nltk-3.6.5-py3-none-any.whl (1.5 MB)\n",
      "Collecting click\n",
      "  Downloading click-8.0.3-py3-none-any.whl (97 kB)\n",
      "Collecting joblib\n",
      "  Downloading joblib-1.1.0-py2.py3-none-any.whl (306 kB)\n",
      "Collecting regex>=2021.8.3\n",
      "  Downloading regex-2021.11.10-cp39-cp39-win_amd64.whl (273 kB)\n",
      "Requirement already satisfied: tqdm in c:\\users\\om\\appdata\\roaming\\python\\python39\\site-packages (from nltk>=3.1->textblob) (4.62.3)\n",
      "Requirement already satisfied: colorama in c:\\users\\om\\appdata\\roaming\\python\\python39\\site-packages (from click->nltk>=3.1->textblob) (0.4.4)\n",
      "Installing collected packages: regex, joblib, click, nltk, textblob\n",
      "Successfully installed click-8.0.3 joblib-1.1.0 nltk-3.6.5 regex-2021.11.10 textblob-0.17.1\n",
      "Note: you may need to restart the kernel to use updated packages.\n"
     ]
    },
    {
     "name": "stderr",
     "output_type": "stream",
     "text": [
      "  WARNING: The script nltk.exe is installed in 'C:\\Users\\om\\AppData\\Roaming\\Python\\Python39\\Scripts' which is not on PATH.\n",
      "  Consider adding this directory to PATH or, if you prefer to suppress this warning, use --no-warn-script-location.\n"
     ]
    }
   ],
   "source": [
    "pip install textblob"
   ]
  },
  {
   "cell_type": "code",
   "execution_count": 13,
   "id": "88b64040",
   "metadata": {},
   "outputs": [
    {
     "name": "stdout",
     "output_type": "stream",
     "text": [
      "Data scence\n",
      "Corrected words are:\n",
      "Data science "
     ]
    }
   ],
   "source": [
    "from textblob import TextBlob\n",
    "word = list(input().split())\n",
    "\n",
    "Corrected_words = []\n",
    "\n",
    "for i in word:\n",
    "    Corrected_words.append(TextBlob(i))\n",
    "\n",
    "#print(\"Worng words:\",word[i])\n",
    "print(\"Corrected words are:\")\n",
    "\n",
    "for i in Corrected_words:\n",
    "    print(i.correct(), end =' ')"
   ]
  },
  {
   "cell_type": "code",
   "execution_count": null,
   "id": "cc46719a",
   "metadata": {},
   "outputs": [],
   "source": []
  }
 ],
 "metadata": {
  "kernelspec": {
   "display_name": "Python 3 (ipykernel)",
   "language": "python",
   "name": "python3"
  },
  "language_info": {
   "codemirror_mode": {
    "name": "ipython",
    "version": 3
   },
   "file_extension": ".py",
   "mimetype": "text/x-python",
   "name": "python",
   "nbconvert_exporter": "python",
   "pygments_lexer": "ipython3",
   "version": "3.9.6"
  }
 },
 "nbformat": 4,
 "nbformat_minor": 5
}
