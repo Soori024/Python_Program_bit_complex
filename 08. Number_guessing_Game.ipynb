{
 "cells": [
  {
   "cell_type": "code",
   "execution_count": 2,
   "id": "20f24782",
   "metadata": {},
   "outputs": [
    {
     "name": "stdout",
     "output_type": "stream",
     "text": [
      "Enter Any number: 90\n",
      "Too Low\n",
      "Enter the number Again: 96\n",
      "Too High\n",
      "Enter the number Again: 92\n",
      "Too Low\n",
      "Enter the number Again: 94\n",
      "Too High\n",
      "Enter the number Again: 93\n",
      "You Guessed that Number Which Computer selected Number is: 93\n"
     ]
    }
   ],
   "source": [
    "import random\n",
    "\n",
    "n = random.randrange(1, 100)\n",
    "\n",
    "guess = int(input(\"Enter Any number: \"))\n",
    "\n",
    "while n!= guess:\n",
    "    if guess < n:\n",
    "        print('Too Low')\n",
    "        guess = int(input(\"Enter the number Again: \"))\n",
    "    elif guess > n:\n",
    "        print(\"Too High\")\n",
    "        guess = int(input(\"Enter the number Again: \"))\n",
    "    else:\n",
    "        break\n",
    "print(\"You Guessed that Number Which Computer selected Number is:\", n)"
   ]
  },
  {
   "cell_type": "code",
   "execution_count": null,
   "id": "2fdbc8ae",
   "metadata": {},
   "outputs": [],
   "source": []
  }
 ],
 "metadata": {
  "kernelspec": {
   "display_name": "Python 3 (ipykernel)",
   "language": "python",
   "name": "python3"
  },
  "language_info": {
   "codemirror_mode": {
    "name": "ipython",
    "version": 3
   },
   "file_extension": ".py",
   "mimetype": "text/x-python",
   "name": "python",
   "nbconvert_exporter": "python",
   "pygments_lexer": "ipython3",
   "version": "3.9.6"
  }
 },
 "nbformat": 4,
 "nbformat_minor": 5
}
